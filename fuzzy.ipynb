{
  "nbformat": 4,
  "nbformat_minor": 0,
  "metadata": {
    "colab": {
      "name": "fuzzy2號.ipynb",
      "provenance": []
    },
    "kernelspec": {
      "name": "python3",
      "display_name": "Python 3"
    },
    "language_info": {
      "name": "python"
    }
  },
  "cells": [
    {
      "cell_type": "code",
      "source": [
        "pip install scikit-fuzzy"
      ],
      "metadata": {
        "colab": {
          "base_uri": "https://localhost:8080/"
        },
        "id": "ap1jxSDxuDUZ",
        "outputId": "df435acd-d000-4f85-cb39-6d9a24f0981d"
      },
      "execution_count": null,
      "outputs": [
        {
          "output_type": "stream",
          "name": "stdout",
          "text": [
            "Collecting scikit-fuzzy\n",
            "  Downloading scikit-fuzzy-0.4.2.tar.gz (993 kB)\n",
            "\u001b[K     |████████████████████████████████| 993 kB 10.0 MB/s \n",
            "\u001b[?25hRequirement already satisfied: numpy>=1.6.0 in /usr/local/lib/python3.7/dist-packages (from scikit-fuzzy) (1.21.6)\n",
            "Requirement already satisfied: scipy>=0.9.0 in /usr/local/lib/python3.7/dist-packages (from scikit-fuzzy) (1.4.1)\n",
            "Requirement already satisfied: networkx>=1.9.0 in /usr/local/lib/python3.7/dist-packages (from scikit-fuzzy) (2.6.3)\n",
            "Building wheels for collected packages: scikit-fuzzy\n",
            "  Building wheel for scikit-fuzzy (setup.py) ... \u001b[?25l\u001b[?25hdone\n",
            "  Created wheel for scikit-fuzzy: filename=scikit_fuzzy-0.4.2-py3-none-any.whl size=894089 sha256=d1fbcd32d70c3fe1840749cf115663ffd243a814276d8a56c16d820cd4936297\n",
            "  Stored in directory: /root/.cache/pip/wheels/d5/74/fc/38588a3d2e3f34f74588e6daa3aa5b0a322bd6f9420a707131\n",
            "Successfully built scikit-fuzzy\n",
            "Installing collected packages: scikit-fuzzy\n",
            "Successfully installed scikit-fuzzy-0.4.2\n"
          ]
        }
      ]
    },
    {
      "cell_type": "code",
      "execution_count": null,
      "metadata": {
        "id": "g-7pMOivtocr"
      },
      "outputs": [],
      "source": [
        "import numpy as np\n",
        "import skfuzzy as fuzz\n",
        "import skfuzzy.control as ctrl"
      ]
    },
    {
      "cell_type": "markdown",
      "source": [
        "#一些有關的function\n",
        "\n",
        "> https://pythonhosted.org/scikit-fuzzy/api/skfuzzy.control.html#skfuzzy.control.Antecedent\n",
        "\n",
        "\n",
        "\n"
      ],
      "metadata": {
        "id": "Mc7kT6Xl-xMF"
      }
    },
    {
      "cell_type": "code",
      "source": [
        "#x 參數範圍\n",
        "star_range = np.arange(1,5) \n",
        "price_range = np.arange(0,500)\n",
        "distance_range = np.arange(0,5000)\n",
        "#y 參數範圍\n",
        "recommend_range = np.arange(1,10)\n",
        "\n",
        "# 定義fuzzy set和其函數\n",
        "# Antecedent(universe, label)[source]\n",
        "# Antecedent (input/sensor) variable for a fuzzy control system.\n",
        "# universe : array-like(Universe variable. Must be 1-dimensional and convertible to a NumPy array.)\n",
        "# label : string(Name of the universe variable.)\n",
        "star = ctrl.Antecedent(star_range,'star')\n",
        "price=ctrl.Antecedent(price_range,'price')\n",
        "distance=ctrl.Antecedent(distance_range,'distance')\n",
        "recommend=ctrl.Consequent(recommend_range,'recommend')\n",
        "\n",
        "\n",
        "#三角形->trimp，梯形->trapmf\n",
        "star['L']=fuzz.trimf(star_range,[1,1,2]) \n",
        "star['M']=fuzz.trimf(star_range,[2,3,4])\n",
        "star['H']=fuzz.trapmf(star_range,[3,4,5,5])\n",
        "\n",
        "price['L']=fuzz.trapmf(price_range,[0,0,60,250]) #60元到250算便宜\n",
        "price['M']=fuzz.trimf(price_range,[250,400,700])\n",
        "price['H']=fuzz.trapmf(price_range,[700,1500,3000,3000])\n",
        "\n",
        "distance['L']=fuzz.trapmf(distance_range,[0,0,200,300]) #200公尺到300公尺內算近\n",
        "distance['M']=fuzz.trimf(distance_range,[300,500,1000])\n",
        "distance['H']=fuzz.trapmf(distance_range,[1000,3000,5000,5000])\n",
        "\n",
        "recommend['vL']=fuzz.trimf(recommend_range,[1,1,2])\n",
        "recommend['L']=fuzz.trimf(recommend_range,[2,3,4]) #推薦指數1~10\n",
        "recommend['M']=fuzz.trimf(recommend_range,[4,5,6])\n",
        "recommend['H']=fuzz.trimf(recommend_range,[6,7,8])\n",
        "recommend['vH']=fuzz.trapmf(recommend_range,[8,8,9,10])\n"
      ],
      "metadata": {
        "id": "zb0SOzXOuGmL"
      },
      "execution_count": null,
      "outputs": []
    },
    {
      "cell_type": "code",
      "source": [
        "#設定defuzzify方法\n",
        "recommend.defuzzify_method='centroid'"
      ],
      "metadata": {
        "id": "E720mtiO-Snj"
      },
      "execution_count": null,
      "outputs": []
    },
    {
      "cell_type": "code",
      "source": [
        "'''\n",
        "rule1 = ctrl.Rule(antecedent=((star['L'] & price['H']) |\n",
        "                (price['H'] & distance['H']) |\n",
        "                (star['L'] & distance['H'])),\n",
        "        consequent=recommend['vL'], label='rule 1')\n",
        "'''\n",
        "#Rule1:[星數低]且[價格高]且[距離遠]->推薦程度[極低]\n",
        "rule1 = ctrl.Rule(antecedent=((star['L'] & price['H'] & distance['H']) ),\n",
        "        consequent=recommend['vL'], label='rule 1')\n",
        "\n",
        "#Rule2:[星數低]且[價格中]且[距離遠]->推薦程度[低]\n",
        "rule2 = ctrl.Rule(antecedent=((star['L'] & price['M'] & distance['H']) ),\n",
        "        consequent=recommend['L'], label='rule 2')\n",
        "\n",
        "#Rule3:[星數中]且[價格中]且[距離中]->推薦程度[中]\n",
        "rule3 = ctrl.Rule(antecedent=((star['M'] & price['M'] & distance['M']) ),\n",
        "        consequent=recommend['M'], label='rule 3')          \n",
        "\n",
        "#Rule4:[星數高]且[價格低]且[距離中]->推薦程度[高]\n",
        "rule4 = ctrl.Rule(antecedent=((star['H'] & price['L'] & distance['M']) ),\n",
        "        consequent=recommend['H'], label='rule 4')  \n",
        "          \n",
        "#Rule5:[星數高]且[價格低]且[距離近]->推薦程度[極高]\n",
        "rule5 = ctrl.Rule(antecedent=((star['H'] & price['L'] & distance['L'])),\n",
        "        consequent=recommend['vH'], label='rule 5')           "
      ],
      "metadata": {
        "id": "6k0pd06k-dSM"
      },
      "execution_count": null,
      "outputs": []
    },
    {
      "cell_type": "code",
      "source": [
        "#系統和環境初始化\n",
        "system = ctrl.ControlSystem(rules=[rule1,rule2,rule3,rule4,rule5])\n",
        "sim = ctrl.ControlSystemSimulation(system)"
      ],
      "metadata": {
        "id": "kgL3ViJgFNxU"
      },
      "execution_count": null,
      "outputs": []
    },
    {
      "cell_type": "code",
      "source": [
        "sim.input['star']=5\n",
        "sim.input['price']=1\n",
        "sim.input['distance']=1\n",
        "sim.compute()\n",
        "output = sim.output['recommend']\n",
        "print(output)"
      ],
      "metadata": {
        "colab": {
          "base_uri": "https://localhost:8080/"
        },
        "id": "HCGlI_qhFjPm",
        "outputId": "c9906c41-13a8-4d45-ac5d-7d5271e90752"
      },
      "execution_count": null,
      "outputs": [
        {
          "output_type": "stream",
          "name": "stdout",
          "text": [
            "8.222222222222223\n"
          ]
        }
      ]
    }
  ]
}